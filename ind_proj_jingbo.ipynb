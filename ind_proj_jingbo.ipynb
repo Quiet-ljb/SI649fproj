{
 "cells": [
  {
   "cell_type": "code",
   "execution_count": 2,
   "metadata": {},
   "outputs": [],
   "source": [
    "import pandas as pd\n",
    "import altair as alt\n",
    "from vega_datasets import data"
   ]
  },
  {
   "attachments": {},
   "cell_type": "markdown",
   "metadata": {},
   "source": [
    "# Interactive map"
   ]
  },
  {
   "cell_type": "code",
   "execution_count": 64,
   "metadata": {},
   "outputs": [],
   "source": [
    "map_url = data.us_10m.url\n",
    "states = alt.topo_feature(map_url, 'states')\n",
    "state_id = pd.read_csv('https://gist.githubusercontent.com/dantonnoriega/bf1acd2290e15b91e6710b6fd3be0a53/raw/11d15233327c8080c9646c7e1f23052659db251d/us-state-ansi-fips.csv')\n",
    "pwd = pd.read_csv('map_data.csv')\n",
    "join = pd.merge(pwd, state_id, left_on='state_name', right_on='stname')\n",
    "join['id'] = join[' st']\n",
    "join['percentage'] = join['percentage'].astype(float)/100\n",
    "join['normal_percent'] = 1-join['percentage']"
   ]
  },
  {
   "cell_type": "code",
   "execution_count": 72,
   "metadata": {},
   "outputs": [
    {
     "data": {
      "text/html": [
       "\n",
       "<div id=\"altair-viz-ed2bc775d1a44558a5f353090bb6cf44\"></div>\n",
       "<script type=\"text/javascript\">\n",
       "  var VEGA_DEBUG = (typeof VEGA_DEBUG == \"undefined\") ? {} : VEGA_DEBUG;\n",
       "  (function(spec, embedOpt){\n",
       "    let outputDiv = document.currentScript.previousElementSibling;\n",
       "    if (outputDiv.id !== \"altair-viz-ed2bc775d1a44558a5f353090bb6cf44\") {\n",
       "      outputDiv = document.getElementById(\"altair-viz-ed2bc775d1a44558a5f353090bb6cf44\");\n",
       "    }\n",
       "    const paths = {\n",
       "      \"vega\": \"https://cdn.jsdelivr.net/npm//vega@5?noext\",\n",
       "      \"vega-lib\": \"https://cdn.jsdelivr.net/npm//vega-lib?noext\",\n",
       "      \"vega-lite\": \"https://cdn.jsdelivr.net/npm//vega-lite@4.17.0?noext\",\n",
       "      \"vega-embed\": \"https://cdn.jsdelivr.net/npm//vega-embed@6?noext\",\n",
       "    };\n",
       "\n",
       "    function maybeLoadScript(lib, version) {\n",
       "      var key = `${lib.replace(\"-\", \"\")}_version`;\n",
       "      return (VEGA_DEBUG[key] == version) ?\n",
       "        Promise.resolve(paths[lib]) :\n",
       "        new Promise(function(resolve, reject) {\n",
       "          var s = document.createElement('script');\n",
       "          document.getElementsByTagName(\"head\")[0].appendChild(s);\n",
       "          s.async = true;\n",
       "          s.onload = () => {\n",
       "            VEGA_DEBUG[key] = version;\n",
       "            return resolve(paths[lib]);\n",
       "          };\n",
       "          s.onerror = () => reject(`Error loading script: ${paths[lib]}`);\n",
       "          s.src = paths[lib];\n",
       "        });\n",
       "    }\n",
       "\n",
       "    function showError(err) {\n",
       "      outputDiv.innerHTML = `<div class=\"error\" style=\"color:red;\">${err}</div>`;\n",
       "      throw err;\n",
       "    }\n",
       "\n",
       "    function displayChart(vegaEmbed) {\n",
       "      vegaEmbed(outputDiv, spec, embedOpt)\n",
       "        .catch(err => showError(`Javascript Error: ${err.message}<br>This usually means there's a typo in your chart specification. See the javascript console for the full traceback.`));\n",
       "    }\n",
       "\n",
       "    if(typeof define === \"function\" && define.amd) {\n",
       "      requirejs.config({paths});\n",
       "      require([\"vega-embed\"], displayChart, err => showError(`Error loading script: ${err.message}`));\n",
       "    } else {\n",
       "      maybeLoadScript(\"vega\", \"5\")\n",
       "        .then(() => maybeLoadScript(\"vega-lite\", \"4.17.0\"))\n",
       "        .then(() => maybeLoadScript(\"vega-embed\", \"6\"))\n",
       "        .catch(showError)\n",
       "        .then(() => displayChart(vegaEmbed));\n",
       "    }\n",
       "  })({\"config\": {\"view\": {\"continuousWidth\": 400, \"continuousHeight\": 300}}, \"hconcat\": [{\"data\": {\"url\": \"https://cdn.jsdelivr.net/npm/vega-datasets@v1.29.0/data/us-10m.json\", \"format\": {\"feature\": \"states\", \"type\": \"topojson\"}}, \"mark\": \"geoshape\", \"encoding\": {\"color\": {\"field\": \"percentage\", \"type\": \"quantitative\"}, \"opacity\": {\"condition\": {\"value\": 0.9, \"selection\": \"selector027\"}, \"value\": 0.5}, \"tooltip\": [{\"field\": \"state_name\", \"type\": \"nominal\"}, {\"field\": \"percentage\", \"type\": \"quantitative\"}]}, \"projection\": {\"type\": \"albersUsa\"}, \"selection\": {\"selector027\": {\"type\": \"single\", \"on\": \"click\", \"empty\": \"all\", \"fields\": [\"id\"]}}, \"transform\": [{\"lookup\": \"id\", \"from\": {\"data\": {\"name\": \"data-cee3ffbb1883f5da469af7b4ef223807\"}, \"key\": \" st\", \"fields\": [\"percentage\", \"state_name\"]}}]}, {\"data\": {\"name\": \"data-cee3ffbb1883f5da469af7b4ef223807\"}, \"mark\": \"arc\", \"encoding\": {\"color\": {\"field\": \"type\", \"type\": \"nominal\"}, \"theta\": {\"aggregate\": \"mean\", \"field\": \"value\", \"type\": \"quantitative\"}}, \"title\": \"Percentage of Population with a Disability\", \"transform\": [{\"filter\": {\"selection\": \"selector027\"}}, {\"fold\": [\"percentage\", \"normal_percent\"], \"as\": [\"type\", \"value\"]}]}], \"$schema\": \"https://vega.github.io/schema/vega-lite/v4.17.0.json\", \"datasets\": {\"data-cee3ffbb1883f5da469af7b4ef223807\": [{\"state_name\": \"West Virginia\", \"percentage\": 0.196, \"stname\": \"West Virginia\", \" st\": 54, \" stusps\": \" WV\", \"id\": 54, \"normal_percent\": 0.804}, {\"state_name\": \"Arkansas\", \"percentage\": 0.192, \"stname\": \"Arkansas\", \" st\": 5, \" stusps\": \" AR\", \"id\": 5, \"normal_percent\": 0.808}, {\"state_name\": \"Kentucky\", \"percentage\": 0.184, \"stname\": \"Kentucky\", \" st\": 21, \" stusps\": \" KY\", \"id\": 21, \"normal_percent\": 0.8160000000000001}, {\"state_name\": \"Mississippi\", \"percentage\": 0.17800000000000002, \"stname\": \"Mississippi\", \" st\": 28, \" stusps\": \" MS\", \"id\": 28, \"normal_percent\": 0.822}, {\"state_name\": \"Oklahoma\", \"percentage\": 0.17800000000000002, \"stname\": \"Oklahoma\", \" st\": 40, \" stusps\": \" OK\", \"id\": 40, \"normal_percent\": 0.822}, {\"state_name\": \"Alabama\", \"percentage\": 0.16899999999999998, \"stname\": \"Alabama\", \" st\": 1, \" stusps\": \" AL\", \"id\": 1, \"normal_percent\": 0.831}, {\"state_name\": \"Louisiana\", \"percentage\": 0.165, \"stname\": \"Louisiana\", \" st\": 22, \" stusps\": \" LA\", \"id\": 22, \"normal_percent\": 0.835}, {\"state_name\": \"Maine\", \"percentage\": 0.16399999999999998, \"stname\": \"Maine\", \" st\": 23, \" stusps\": \" ME\", \"id\": 23, \"normal_percent\": 0.8360000000000001}, {\"state_name\": \"Tennessee\", \"percentage\": 0.161, \"stname\": \"Tennessee\", \" st\": 47, \" stusps\": \" TN\", \"id\": 47, \"normal_percent\": 0.839}, {\"state_name\": \"South Carolina\", \"percentage\": 0.152, \"stname\": \"South Carolina\", \" st\": 45, \" stusps\": \" SC\", \"id\": 45, \"normal_percent\": 0.848}, {\"state_name\": \"Oregon\", \"percentage\": 0.151, \"stname\": \"Oregon\", \" st\": 41, \" stusps\": \" OR\", \"id\": 41, \"normal_percent\": 0.849}, {\"state_name\": \"Ohio\", \"percentage\": 0.15, \"stname\": \"Ohio\", \" st\": 39, \" stusps\": \" OH\", \"id\": 39, \"normal_percent\": 0.85}, {\"state_name\": \"Montana\", \"percentage\": 0.149, \"stname\": \"Montana\", \" st\": 30, \" stusps\": \" MT\", \"id\": 30, \"normal_percent\": 0.851}, {\"state_name\": \"Rhode Island\", \"percentage\": 0.149, \"stname\": \"Rhode Island\", \" st\": 44, \" stusps\": \" RI\", \"id\": 44, \"normal_percent\": 0.851}, {\"state_name\": \"Delaware\", \"percentage\": 0.14800000000000002, \"stname\": \"Delaware\", \" st\": 10, \" stusps\": \" DE\", \"id\": 10, \"normal_percent\": 0.852}, {\"state_name\": \"Missouri\", \"percentage\": 0.147, \"stname\": \"Missouri\", \" st\": 29, \" stusps\": \" MO\", \"id\": 29, \"normal_percent\": 0.853}, {\"state_name\": \"Michigan\", \"percentage\": 0.147, \"stname\": \"Michigan\", \" st\": 26, \" stusps\": \" MI\", \"id\": 26, \"normal_percent\": 0.853}, {\"state_name\": \"Indiana\", \"percentage\": 0.146, \"stname\": \"Indiana\", \" st\": 18, \" stusps\": \" IN\", \"id\": 18, \"normal_percent\": 0.854}, {\"state_name\": \"Pennsylvania\", \"percentage\": 0.145, \"stname\": \"Pennsylvania\", \" st\": 42, \" stusps\": \" PA\", \"id\": 42, \"normal_percent\": 0.855}, {\"state_name\": \"Idaho\", \"percentage\": 0.145, \"stname\": \"Idaho\", \" st\": 16, \" stusps\": \" ID\", \"id\": 16, \"normal_percent\": 0.855}, {\"state_name\": \"Florida\", \"percentage\": 0.142, \"stname\": \"Florida\", \" st\": 12, \" stusps\": \" FL\", \"id\": 12, \"normal_percent\": 0.858}, {\"state_name\": \"North Carolina\", \"percentage\": 0.141, \"stname\": \"North Carolina\", \" st\": 37, \" stusps\": \" NC\", \"id\": 37, \"normal_percent\": 0.859}, {\"state_name\": \"New Mexico\", \"percentage\": 0.141, \"stname\": \"New Mexico\", \" st\": 35, \" stusps\": \" NM\", \"id\": 35, \"normal_percent\": 0.859}, {\"state_name\": \"Kansas\", \"percentage\": 0.141, \"stname\": \"Kansas\", \" st\": 20, \" stusps\": \" KS\", \"id\": 20, \"normal_percent\": 0.859}, {\"state_name\": \"Arizona\", \"percentage\": 0.139, \"stname\": \"Arizona\", \" st\": 4, \" stusps\": \" AZ\", \"id\": 4, \"normal_percent\": 0.861}, {\"state_name\": \"Wyoming\", \"percentage\": 0.13699999999999998, \"stname\": \"Wyoming\", \" st\": 56, \" stusps\": \" WY\", \"id\": 56, \"normal_percent\": 0.863}, {\"state_name\": \"Vermont\", \"percentage\": 0.136, \"stname\": \"Vermont\", \" st\": 50, \" stusps\": \" VT\", \"id\": 50, \"normal_percent\": 0.864}, {\"state_name\": \"Washington\", \"percentage\": 0.136, \"stname\": \"Washington\", \" st\": 53, \" stusps\": \" WA\", \"id\": 53, \"normal_percent\": 0.864}, {\"state_name\": \"Georgia\", \"percentage\": 0.135, \"stname\": \"Georgia\", \" st\": 13, \" stusps\": \" GA\", \"id\": 13, \"normal_percent\": 0.865}, {\"state_name\": \"Nevada\", \"percentage\": 0.134, \"stname\": \"Nevada\", \" st\": 32, \" stusps\": \" NV\", \"id\": 32, \"normal_percent\": 0.866}, {\"state_name\": \"New Hampshire\", \"percentage\": 0.134, \"stname\": \"New Hampshire\", \" st\": 33, \" stusps\": \" NH\", \"id\": 33, \"normal_percent\": 0.866}, {\"state_name\": \"Iowa\", \"percentage\": 0.13, \"stname\": \"Iowa\", \" st\": 19, \" stusps\": \" IA\", \"id\": 19, \"normal_percent\": 0.87}, {\"state_name\": \"Virginia\", \"percentage\": 0.126, \"stname\": \"Virginia\", \" st\": 51, \" stusps\": \" VA\", \"id\": 51, \"normal_percent\": 0.874}, {\"state_name\": \"Massachusetts\", \"percentage\": 0.125, \"stname\": \"Massachusetts\", \" st\": 25, \" stusps\": \" MA\", \"id\": 25, \"normal_percent\": 0.875}, {\"state_name\": \"Connecticut\", \"percentage\": 0.12300000000000001, \"stname\": \"Connecticut\", \" st\": 9, \" stusps\": \" CT\", \"id\": 9, \"normal_percent\": 0.877}, {\"state_name\": \"New York\", \"percentage\": 0.12300000000000001, \"stname\": \"New York\", \" st\": 36, \" stusps\": \" NY\", \"id\": 36, \"normal_percent\": 0.877}, {\"state_name\": \"Illinois\", \"percentage\": 0.122, \"stname\": \"Illinois\", \" st\": 17, \" stusps\": \" IL\", \"id\": 17, \"normal_percent\": 0.878}, {\"state_name\": \"Texas\", \"percentage\": 0.122, \"stname\": \"Texas\", \" st\": 48, \" stusps\": \" TX\", \"id\": 48, \"normal_percent\": 0.878}, {\"state_name\": \"Alaska\", \"percentage\": 0.122, \"stname\": \"Alaska\", \" st\": 2, \" stusps\": \" AK\", \"id\": 2, \"normal_percent\": 0.878}, {\"state_name\": \"South Dakota\", \"percentage\": 0.121, \"stname\": \"South Dakota\", \" st\": 46, \" stusps\": \" SD\", \"id\": 46, \"normal_percent\": 0.879}, {\"state_name\": \"Hawaii\", \"percentage\": 0.121, \"stname\": \"Hawaii\", \" st\": 15, \" stusps\": \" HI\", \"id\": 15, \"normal_percent\": 0.879}, {\"state_name\": \"Wisconsin\", \"percentage\": 0.121, \"stname\": \"Wisconsin\", \" st\": 55, \" stusps\": \" WI\", \"id\": 55, \"normal_percent\": 0.879}, {\"state_name\": \"Maryland\", \"percentage\": 0.11599999999999999, \"stname\": \"Maryland\", \" st\": 24, \" stusps\": \" MD\", \"id\": 24, \"normal_percent\": 0.884}, {\"state_name\": \"Minnesota\", \"percentage\": 0.115, \"stname\": \"Minnesota\", \" st\": 27, \" stusps\": \" MN\", \"id\": 27, \"normal_percent\": 0.885}, {\"state_name\": \"Nebraska\", \"percentage\": 0.115, \"stname\": \"Nebraska\", \" st\": 31, \" stusps\": \" NE\", \"id\": 31, \"normal_percent\": 0.885}, {\"state_name\": \"California\", \"percentage\": 0.113, \"stname\": \"California\", \" st\": 6, \" stusps\": \" CA\", \"id\": 6, \"normal_percent\": 0.887}, {\"state_name\": \"New Jersey\", \"percentage\": 0.113, \"stname\": \"New Jersey\", \" st\": 34, \" stusps\": \" NJ\", \"id\": 34, \"normal_percent\": 0.887}, {\"state_name\": \"Colorado\", \"percentage\": 0.11199999999999999, \"stname\": \"Colorado\", \" st\": 8, \" stusps\": \" CO\", \"id\": 8, \"normal_percent\": 0.888}, {\"state_name\": \"North Dakota\", \"percentage\": 0.111, \"stname\": \"North Dakota\", \" st\": 38, \" stusps\": \" ND\", \"id\": 38, \"normal_percent\": 0.889}, {\"state_name\": \"District of Columbia\", \"percentage\": 0.105, \"stname\": \"District of Columbia\", \" st\": 11, \" stusps\": \" DC\", \"id\": 11, \"normal_percent\": 0.895}, {\"state_name\": \"Utah\", \"percentage\": 0.105, \"stname\": \"Utah\", \" st\": 49, \" stusps\": \" UT\", \"id\": 49, \"normal_percent\": 0.895}]}}, {\"mode\": \"vega-lite\"});\n",
       "</script>"
      ],
      "text/plain": [
       "alt.HConcatChart(...)"
      ]
     },
     "execution_count": 72,
     "metadata": {},
     "output_type": "execute_result"
    }
   ],
   "source": [
    "click = alt.selection_single(on='click', empty='all', fields=['id'])\n",
    "\n",
    "clarity = alt.condition(click, alt.value(0.9), alt.value(0.5))\n",
    "\n",
    "map = alt.Chart(states).mark_geoshape().encode(\n",
    "    color='percentage:Q',\n",
    "    tooltip=['state_name:N', 'percentage:Q'],\n",
    "    opacity=clarity\n",
    ").transform_lookup(\n",
    "    lookup='id',\n",
    "    from_=alt.LookupData(join, ' st', ['percentage', 'state_name'])\n",
    ").project(\n",
    "    type='albersUsa'\n",
    ").add_selection(\n",
    "    click\n",
    ")\n",
    "\n",
    "pie_chart = alt.Chart(join).transform_filter(\n",
    "    click\n",
    ").transform_fold(\n",
    "    ['percentage', 'normal_percent'],\n",
    "    as_=['type', 'value']\n",
    ").mark_arc().encode(\n",
    "    theta='mean(value):Q',\n",
    "    color='type:N',\n",
    ").properties(\n",
    "    title='Percentage of Population with a Disability'\n",
    ")\n",
    "\n",
    "\n",
    "    \n",
    "map | pie_chart\n",
    "\n"
   ]
  },
  {
   "attachments": {},
   "cell_type": "markdown",
   "metadata": {},
   "source": [
    "Timeline"
   ]
  },
  {
   "cell_type": "code",
   "execution_count": null,
   "metadata": {},
   "outputs": [],
   "source": []
  }
 ],
 "metadata": {
  "kernelspec": {
   "display_name": "Python 3",
   "language": "python",
   "name": "python3"
  },
  "language_info": {
   "codemirror_mode": {
    "name": "ipython",
    "version": 3
   },
   "file_extension": ".py",
   "mimetype": "text/x-python",
   "name": "python",
   "nbconvert_exporter": "python",
   "pygments_lexer": "ipython3",
   "version": "3.10.1"
  },
  "orig_nbformat": 4
 },
 "nbformat": 4,
 "nbformat_minor": 2
}
